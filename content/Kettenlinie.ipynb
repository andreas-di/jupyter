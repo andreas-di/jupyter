{
 "cells": [
  {
   "cell_type": "markdown",
   "id": "f1a2865a-876d-4e4f-b63b-8e77511ca6b0",
   "metadata": {},
   "source": [
    "# Python Porgramm frei stehender Bogen"
   ]
  },
  {
   "cell_type": "markdown",
   "id": "413a3aa1-c854-44fe-82ee-1923e5b1b16f",
   "metadata": {},
   "source": [
    "Der Code wird im Folgenden erst beschrieben und unter der jeweiligen Beschreibung eingebunden."
   ]
  },
  {
   "cell_type": "markdown",
   "id": "e480a639-8795-4dcd-a36b-d95f66805076",
   "metadata": {},
   "source": [
    "## Bestimmung der Funktionsgleichung"
   ]
  },
  {
   "cell_type": "markdown",
   "id": "63c08711-8f4b-4316-aed0-233ffe53c7e7",
   "metadata": {},
   "source": [
    "Hier werden die bnötigten Python Bibliotheken importiert."
   ]
  },
  {
   "cell_type": "code",
   "execution_count": 1,
   "id": "86ce8273-2d4f-47b5-ad48-c66b8353c873",
   "metadata": {},
   "outputs": [],
   "source": [
    "import math\n",
    "import numpy as np\n",
    "import matplotlib.pyplot as plt\n",
    "from shapely.geometry import Polygon\n",
    "from stl import mesh"
   ]
  },
  {
   "cell_type": "markdown",
   "id": "a1c2b0b9-7a22-479e-9f06-975ae957f39b",
   "metadata": {},
   "source": [
    "-------------------"
   ]
  },
  {
   "cell_type": "markdown",
   "id": "8087decc-2c9c-4b5f-a5ed-e1ea3ea17711",
   "metadata": {},
   "source": [
    "Beim Bau des Bogens, hab ich mir bestimmte Werte festgelegt.<br> \n",
    "Einerseits die Länge $L$ des Bogens (Bogenlänge zwischen den Nullstellen) und die Nullstelle x0, bzw. Hälfte der Bogenbreite (siehe Abbildung). Zu dem die Anzahl an Klötzen, die Breite eines Klotzes und die durch einen Klotz beschriebene Bogenlänge.<br>\n",
    "Der Bogen wird durch eine hängende Kette beschrieben."
   ]
  },
  {
   "cell_type": "markdown",
   "id": "61872242-1f95-45fb-a71c-2d656c05dc49",
   "metadata": {},
   "source": [
    "![Alt-Text](bilder/geogebra_x0_l.png)"
   ]
  },
  {
   "cell_type": "code",
   "execution_count": 11,
   "id": "3ab49f12-f51f-42a7-955a-c7e0b52f52e0",
   "metadata": {},
   "outputs": [],
   "source": [
    "L = 136\n",
    "x0 = 30\n",
    "anzahlKloetze = 17\n",
    "bogenlaengeDurchKloetz = 8 #die Bogenlänge, die durch einen Klotz simuliert wird\n",
    "breiteKloetze = 4"
   ]
  },
  {
   "cell_type": "markdown",
   "id": "1e12f161-44bb-4310-9212-1d651548862d",
   "metadata": {},
   "source": [
    "-------------------"
   ]
  },
  {
   "cell_type": "markdown",
   "id": "84e4b349-686e-4a86-a544-c0fabb0eb256",
   "metadata": {},
   "source": [
    "Für die Funktion, welche die Kette beschreibt, gilt: $f(x)= a \\cdot \\cosh \\left( \\frac{1}{a}x \\right) + y_{0}$ (siehe PDF !!!!)<br>\n",
    "Um den Faktor a zu bestimmen wird folgender Ausdruck verwendet: $0 = L - 2a \\cdot \\sinh \\left( \\frac{1}{a} x \\right)$ (siehe PDF!!!)<br>\n",
    "Die numerische Bestimmung **der Nullstelle** erfolgt hier mit Hilfe von Intervallhalbierung:<br>\n",
    "Beim Funktionsaufruf, wird eine untere und eine obere Grenze festgelegt. Für $a$ wird die Mitte zwischen diesen Werten gewählt.<br>\n",
    "Danach wird in f_a $L - 2a \\cdot \\sinh \\left( \\frac{1}{a} x \\right)$ bestimmt.<br>\n",
    "Ist dieser Wert kleiner als $\\frac{1}{10000000}$, also näherungsweise null, wird der Wert von a zurückgegeben.<br>\n",
    "Anderen Falls wird geprüft ob der Wert von f_a größer oder kleier ist als Null. Ist f_a kleiner als null, ruft sich die Funktion rekursiv auf. Jedoch wird a als untere Grenze übergeben (oberGrenze bleibt die obere Grenze).<br>\n",
    "Ist f_a größer als null, passiert das gleich, nur wird a als obere Grenze übergeben und die untere Grenze bleibt gleich."
   ]
  },
  {
   "cell_type": "code",
   "execution_count": 12,
   "id": "637830ee-d505-4e20-82de-f6626c45b185",
   "metadata": {},
   "outputs": [],
   "source": [
    "def a_bestimmen(unterGrenze,oberGrenze):\n",
    "    a = (unterGrenze+oberGrenze)/2\n",
    "    f_a = (L-2*a*math.sinh(1/a*x0))\n",
    "    if( abs(f_a) < 1/10000000 ):\n",
    "        return a\n",
    "    elif (f_a < 0):\n",
    "            return a_bestimmen(a,oberGrenze);\n",
    "    else:\n",
    "        return a_bestimmen(unterGrenze,a);"
   ]
  },
  {
   "cell_type": "code",
   "execution_count": 13,
   "id": "ccda0986-14d6-48b8-a4cf-d6ee0eb36db2",
   "metadata": {},
   "outputs": [
    {
     "name": "stdout",
     "output_type": "stream",
     "text": [
      "a :  12.541937507689\n"
     ]
    }
   ],
   "source": [
    "a = a_bestimmen(10,16)\n",
    "print(\"a : \", a)"
   ]
  },
  {
   "cell_type": "markdown",
   "id": "bcb77a3c-1746-4d29-8918-ee55473746aa",
   "metadata": {},
   "source": [
    "---------"
   ]
  },
  {
   "cell_type": "markdown",
   "id": "dbe13536-f423-4d1e-8ee2-874cfff0d7fc",
   "metadata": {},
   "source": [
    "$y_{0} = -a \\cdot \\cosh \\left( \\frac{1}{a}x \\right)$: (umgeformt!! siehe PDF!!! Fehlt noch in PDF)"
   ]
  },
  {
   "cell_type": "code",
   "execution_count": 14,
   "id": "8391330e-fcdc-460a-b18c-9a5598210548",
   "metadata": {},
   "outputs": [],
   "source": [
    "y0 = -a*math.cosh(1/a*x0)"
   ]
  },
  {
   "cell_type": "markdown",
   "id": "4beca8b8-1344-4347-b5a3-ba16f38c6471",
   "metadata": {},
   "source": [
    "-------------------"
   ]
  },
  {
   "cell_type": "markdown",
   "id": "5bed6bba-b57b-497f-89d2-52c7986d0bb6",
   "metadata": {},
   "source": [
    "Jetzt sind alle Größe der Funktion $f(x)= a \\cdot \\cosh \\left( \\frac{1}{a}x \\right) + y_{0}$ bekannt:"
   ]
  },
  {
   "cell_type": "code",
   "execution_count": 15,
   "id": "7e636eab-0205-4e21-bfbc-642f2fd0164b",
   "metadata": {},
   "outputs": [],
   "source": [
    "kettenlinie = lambda x: (a*np.cosh(1/a * x)+y0)\n",
    "ableitung = lambda x: (np.sinh(1/a * x)) #siehe Ableitungsregeln PDF"
   ]
  },
  {
   "cell_type": "markdown",
   "id": "45f12e29-8263-4f3d-bebb-2537e2760862",
   "metadata": {},
   "source": [
    "## Bestimmung der x und y-Werte"
   ]
  },
  {
   "cell_type": "markdown",
   "id": "db52ecff-ddfb-40c5-892a-83289ba5bb3b",
   "metadata": {},
   "source": [
    "Die folgende Funktion gibt einen den x Wert bei gegebener Bogenlänge l zurück. (siehe PDF!!!)"
   ]
  },
  {
   "cell_type": "code",
   "execution_count": 16,
   "id": "563a0364-7315-4484-a15c-797e32c73bd6",
   "metadata": {},
   "outputs": [],
   "source": [
    "def x_werte_l(l):\n",
    "    return (np.arcsinh(l/a) * a)"
   ]
  },
  {
   "cell_type": "markdown",
   "id": "c3a2ef40-a9d2-4ee1-ae80-301459e26fe2",
   "metadata": {},
   "source": [
    "-------------------"
   ]
  },
  {
   "cell_type": "markdown",
   "id": "c9f29087-7c45-4b7a-aa71-813e6495979d",
   "metadata": {},
   "source": [
    "Jetzt wird eine Liste der x-Werte, welche die Klötze beschreiben, erzeugt. (siehe PDF!!!!)<br>\n",
    "Dafür läuft eine for Schleife von -(der Hälfte der vorgegebenen Bogenlänge), hier die Nullstelle, da Faktor a und y0 so bestimmt wurden, dass der Bogen durch den Teil unterhalb der x-Achse beschrieben wird, bis zur +(Hälfte der vorgegeben Bogenlänge).<br>\n",
    "In jedem Schleifendurchlauf, wird i um die größe der Variable laengeHolzStuecke (Länge vom Bogen, welche durch einen Klotz beschrieben wird) erhöht. Jetzt wird die Funktion x_werte_l(i) mit i als Parameter aufgerufen und die Rückgabe wird in die Liste geschrieben."
   ]
  },
  {
   "cell_type": "code",
   "execution_count": 18,
   "id": "f1619320-a599-4a39-be38-77be9bf69ead",
   "metadata": {},
   "outputs": [],
   "source": [
    "def x_werte_holzstuecke():\n",
    "    x_werte_holzstuecke = []\n",
    "    for i in range (-int(L/2), int(L/2+1), bogenlaengeDurchKloetz):\n",
    "        x_werte_holzstuecke.append(x_werte_l(i))\n",
    "    return x_werte_holzstuecke"
   ]
  },
  {
   "cell_type": "code",
   "execution_count": 19,
   "id": "9b3fd694-5659-4f83-979e-7de26b03f9d4",
   "metadata": {},
   "outputs": [
    {
     "name": "stdout",
     "output_type": "stream",
     "text": [
      "x Werte:\n",
      "[-30.000000004186834, -28.459695195406937, -26.708667641693076, -24.682268897417455, -22.282466596571965, -19.352603653310144, -15.629065100279782, -10.666755857440647, -3.9351171525557147, 3.9351171525557147, 10.666755857440647, 15.629065100279782, 19.352603653310144, 22.282466596571965, 24.682268897417455, 26.708667641693076, 28.459695195406937, 30.000000004186834]\n"
     ]
    }
   ],
   "source": [
    "x_werte = x_werte_holzstuecke()\n",
    "print(\"x Werte:\")\n",
    "print(x_werte)"
   ]
  },
  {
   "cell_type": "markdown",
   "id": "99f20cb7-3e7c-4f5f-8a56-6b01440e9640",
   "metadata": {},
   "source": [
    "-------------------"
   ]
  },
  {
   "cell_type": "markdown",
   "id": "01c89fe9-c22f-438a-a5d2-fe9f029ff168",
   "metadata": {},
   "source": [
    "Um eine Liste mit den zugehörigen y-Werte zu bekommen, läuft die folgende Funktion durch die Liste der x-Werte, welche als Parameter übergeben wird, und fügt den jeweiligen Funktionswert von kettenlinie = lambda x: (a*np.cosh(1/a * x)+y0) zur Liste hinzu."
   ]
  },
  {
   "cell_type": "code",
   "execution_count": 20,
   "id": "88ead2c3-dbf1-41fe-8c35-2b355a288160",
   "metadata": {},
   "outputs": [],
   "source": [
    "def y_werte_holzstuecke(xWerteListe):\n",
    "    yWerte = []\n",
    "    for i in xWerteListe:\n",
    "        yWerte.append(kettenlinie(i))\n",
    "    return yWerte"
   ]
  },
  {
   "cell_type": "code",
   "execution_count": 21,
   "id": "dc3c15a4-ec52-4c43-92f7-feca7cc154cd",
   "metadata": {},
   "outputs": [
    {
     "name": "stdout",
     "output_type": "stream",
     "text": [
      "y Werte:\n",
      "[2.2700234580952383e-08, -7.8501259341093075, -15.655823782564553, -23.39434867569104, -31.024771774511088, -38.466330404901925, -45.53973992575219, -51.78894544268181, -55.982593128987965, -55.982593128987965, -51.78894544268181, -45.53973992575219, -38.466330404901925, -31.024771774511088, -23.39434867569104, -15.655823782564553, -7.8501259341093075, 2.2700234580952383e-08]\n"
     ]
    }
   ],
   "source": [
    "y_werte = y_werte_holzstuecke(x_werte)\n",
    "print(\"y Werte:\")\n",
    "print(y_werte)"
   ]
  },
  {
   "cell_type": "markdown",
   "id": "ef5b01e3-0c7e-4f38-a256-bce578fca20f",
   "metadata": {},
   "source": [
    "## Bestimmung der Winkel zwischen den Klötzen"
   ]
  },
  {
   "cell_type": "markdown",
   "id": "4c623460-feb7-4303-a95a-1e7ca7470660",
   "metadata": {},
   "source": [
    "Die folgende Funktion bestimmt den Steigungswinkel der Sekante durch die Punkte p1 und p2:"
   ]
  },
  {
   "cell_type": "code",
   "execution_count": 22,
   "id": "2ba5b3b8-00d7-4ef9-bf4d-254d8a9550fe",
   "metadata": {},
   "outputs": [],
   "source": [
    "def sekantenSteigungsWinkel(p1, p2):\n",
    "    m = (kettenlinie(p1)-kettenlinie(p2))/(p1-p2) #Steigung wird bestimmt\n",
    "    return (np.arctan(m)/(2 * math.pi) * 360) #bestimmung des Winkels und umrechnen von Radiant in Grad"
   ]
  },
  {
   "cell_type": "markdown",
   "id": "3b169ef2-db04-4d9b-9639-824e927c8aa7",
   "metadata": {},
   "source": [
    "--------"
   ]
  },
  {
   "cell_type": "markdown",
   "id": "e46dc600-6633-4e0f-8b2e-f94440d79275",
   "metadata": {},
   "source": [
    "Die folgende Funktion liefert eine Liste mit den Sekantensteiungswinkeln, welche jeweils durch einen Klotz laufen.<br>\n",
    "Dafür wird erst der erste Steiungswinkel hinzugefügt und zu letzt der letzte (siehe PDF Besonderheiten erster und letzter Klotz). Dazwischen läuft eine for-Schleife durch die Liste der x-Werte und ruf jeweils die Funktion sekantenSteigungsWinkel(x_werte[i], x_werte[i+1]) mit dem momentanen und dem darauf folgenden x-Wert auf."
   ]
  },
  {
   "cell_type": "code",
   "execution_count": 23,
   "id": "6afa89b3-285a-4bd5-96b9-a7530474637b",
   "metadata": {},
   "outputs": [],
   "source": [
    "def sekantenSteigungsWinkelListe(x_werte):\n",
    "    steigungsWinkel = []\n",
    "    steigungsWinkel.append( np.arctan( (kettenlinie(x_werte[0])-(-1)*kettenlinie(x_werte[1]))/(x_werte[0]-x_werte[1]) ) / (2*math.pi)*360 ) # siehe PDF Besonderheiten erster und letzter Klotz\n",
    "    for i in range(0,len(x_werte)-1): # von 0 bis len-1\n",
    "        steigungsWinkel.append(sekantenSteigungsWinkel(x_werte[i], x_werte[i+1]))\n",
    "    \n",
    "    steigungsWinkel.append( np.arctan( (kettenlinie(x_werte[len(x_werte)-1])-(-1)*kettenlinie(x_werte[len(x_werte)-2]))/(x_werte[len(x_werte)-1]-x_werte[len(x_werte)-2]) ) / (2*math.pi)*360 ) ##\n",
    "    return steigungsWinkel"
   ]
  },
  {
   "cell_type": "markdown",
   "id": "28ed540b-29c5-45f0-bdc0-1313846ffbfb",
   "metadata": {},
   "source": [
    "-------------"
   ]
  },
  {
   "cell_type": "markdown",
   "id": "3163f2e9-f4fb-4d8c-8689-ec88c3d07e00",
   "metadata": {},
   "source": [
    "Als nächstes wird die Hälfte der Winkel zwischen den Stücken bestimmt und als Liste zurück gegeben. Dafür wird die Liste der Sekantensteigungswinkel als Parameter übergeben.<br>\n",
    "Der erste und letzte Wert können aus der Liste übernommen werden.(Siehe PDF wie erster/letzter Winkel bestimmt!!!!!!!!)<br>\n",
    "Zwischen dem ersten und letzten Wert läuft wieder eine for-Schleife durch die Liste und bestimmt die Hälfte des Winkels zwischen den Sekanten."
   ]
  },
  {
   "cell_type": "code",
   "execution_count": 24,
   "id": "cc793bd2-4a9b-44fd-8ce7-5f9f628e2a1f",
   "metadata": {},
   "outputs": [],
   "source": [
    "def winkelZwischenStueckenHalbe(sekantenSteigungsWinkel, xWerte):\n",
    "    listeWinkel = []\n",
    "    listeWinkel.append(sekantenSteigungsWinkel[0])\n",
    "    for i in range(1,len(sekantenSteigungsWinkel)-2):\n",
    "        listeWinkel.append((180 - sekantenSteigungsWinkel[i+1] + sekantenSteigungsWinkel[i])/2)\n",
    "    listeWinkel.append(abs(sekantenSteigungsWinkel[len(sekantenSteigungsWinkel)-1]))\n",
    "    return listeWinkel"
   ]
  },
  {
   "cell_type": "markdown",
   "id": "5541065a-2fe5-4f67-b24a-c113fedd8cf1",
   "metadata": {},
   "source": [
    "## Bestimmung der Klotzmaße"
   ]
  },
  {
   "cell_type": "markdown",
   "id": "318aab94-91ef-4301-b217-73c38491a292",
   "metadata": {},
   "source": [
    "Um die Klotzmaße zu bestimmen, wird der Winkel in einem Klotz, an der Schrägen benötigt.<br>\n",
    "Dafür wird die Liste mit den Winkeln zwischen den Klötzen benötigt (Übergabe als Parameter). Winkel $\\alpha$ in den Klötzen wird bestimmt durch $\\alpha = 90° - \\gamma$, wobei $\\gamma$ die Hälfte des Winkels zwischen den Klötzen ist. "
   ]
  },
  {
   "cell_type": "code",
   "execution_count": 25,
   "id": "84983896-d40d-4671-9434-d31f16470ae8",
   "metadata": {},
   "outputs": [],
   "source": [
    "def winkelInHolzStueckAnKanteListe(winkelZwischenStueckenListe):\n",
    "    winkelInHolzStueck = []\n",
    "    for i in range(0,len(winkelZwischenStueckenListe)):\n",
    "        winkelInHolzStueck.append(90 - winkelZwischenStueckenListe[i])\n",
    "    return winkelInHolzStueck"
   ]
  },
  {
   "cell_type": "markdown",
   "id": "9e84ce82-416e-4ca4-b6d0-2540e961c3f0",
   "metadata": {},
   "source": [
    "----------"
   ]
  },
  {
   "cell_type": "markdown",
   "id": "48d1f336-244c-45b7-b782-5f821d99925a",
   "metadata": {},
   "source": [
    "Zu Beginn wird die Länge der Sekanten, welche die Klötze beschreiben, bestimmt.<br>\n",
    "Dies erfolgt, indem die Funktion mittels einer for-Schleife durch die Liste der x-Werte läuft und immer den aktuellen und den folgenden x-Wert nimmt. Zu diesen werden die y-Werte bestimmt und mit Hilfe des Satzes von Pythagoras wird die Länge der Sekanten bestimmt. (siehe PDF!!!!!)"
   ]
  },
  {
   "cell_type": "code",
   "execution_count": 26,
   "id": "dfdc45f4-0c53-4826-9c2f-1357eb00e5b0",
   "metadata": {},
   "outputs": [],
   "source": [
    "def sekantenLaenge(xWerteListe):\n",
    "    sekantenLaengen = []\n",
    "    for i in range(0, len(xWerteListe)-1):\n",
    "        y1 = kettenlinie(xWerteListe[i])\n",
    "        y2 = kettenlinie(xWerteListe[i+1])\n",
    "        sekantenLaengen.append(math.sqrt((xWerteListe[i+1]-xWerteListe[i])**2 + (y2-y1)**2))\n",
    "    return sekantenLaengen"
   ]
  },
  {
   "cell_type": "markdown",
   "id": "91ebf4b9-577c-4226-a82f-b1807e3764d2",
   "metadata": {},
   "source": [
    "--------------"
   ]
  },
  {
   "cell_type": "markdown",
   "id": "41d16f4b-f0d4-4ce1-a707-adb6629325c6",
   "metadata": {},
   "source": [
    "Da die Sekanten durch die Mitte der Klötze läuft, kommen durch die Schräge beim schneiden auf der Außenseite des Bogens noch Längen dazu und innerhalb fallen welche weg.(siehe PDF!!!)<br>\n",
    "Die Länge, die außen dazukommt, ist die gleich, wie die, die innen weg fällt. Daher reicht einen Funktion, welche die zusätzliche Länge bestimmt.<br>\n",
    "Die Längen werden bestimmt, indem die Hälfte der Breite mit dem Tangens des jeweiligen Winkels im Klotz multipliziert wird. (siehe PDF!!!!)"
   ]
  },
  {
   "cell_type": "code",
   "execution_count": 27,
   "id": "33a12fd6-d35c-4187-ab39-bdb9ab89ff68",
   "metadata": {},
   "outputs": [],
   "source": [
    "def langeSeiten(winkelInHolzStueck):\n",
    "    langeSeite = []\n",
    "    for i in range(0,len(winkelInHolzStueck)):\n",
    "        langeSeite.append(2 * math.tan(math.radians(winkelInHolzStueck[i])))\n",
    "    return langeSeite"
   ]
  },
  {
   "cell_type": "markdown",
   "id": "c21e8025-1ec8-4a5f-93c2-8536f16f2ae2",
   "metadata": {},
   "source": [
    "-------------------"
   ]
  },
  {
   "cell_type": "markdown",
   "id": "9f5b8864-ac5b-4109-afc2-21d0765b6794",
   "metadata": {},
   "source": [
    "Da nun alle Größen bekannt sind, kann die außere Länge der Klotze bestimmt werden. Da der erste und letzte Klotz von den anderen unterscheiden, liefert die folgende Methode nur die Mittleren Längen.<br>\n",
    "Es wird die jeweilige Sekantenlänge mit den beiden zusetzlichen Länge addiert. Zu beachten ist, dass die beiden zusatzlängen Längen in einem Klotz verschieden voneinander sind."
   ]
  },
  {
   "cell_type": "code",
   "execution_count": 28,
   "id": "b14bd61a-99b1-402e-b432-e6e7c9450f13",
   "metadata": {},
   "outputs": [],
   "source": [
    "def laengeHolzStueckeListe(sekantenLaengenListe, seitenLaengenListe):\n",
    "    laengen = []\n",
    "    for i in range(0,len(sekantenLaengenListe)):#1 bis len-1\n",
    "        laengen.append(sekantenLaengenListe[i] + seitenLaengenListe[i] + seitenLaengenListe[i+1])\n",
    "    return laengen"
   ]
  },
  {
   "cell_type": "code",
   "execution_count": null,
   "id": "8327d488-9852-48be-9d77-0777ee501e87",
   "metadata": {},
   "outputs": [],
   "source": []
  }
 ],
 "metadata": {
  "kernelspec": {
   "display_name": "Python 3 (ipykernel)",
   "language": "python",
   "name": "python3"
  },
  "language_info": {
   "codemirror_mode": {
    "name": "ipython",
    "version": 3
   },
   "file_extension": ".py",
   "mimetype": "text/x-python",
   "name": "python",
   "nbconvert_exporter": "python",
   "pygments_lexer": "ipython3",
   "version": "3.11.7"
  }
 },
 "nbformat": 4,
 "nbformat_minor": 5
}
